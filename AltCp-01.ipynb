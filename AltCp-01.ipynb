{
 "cells": [
  {
   "cell_type": "markdown",
   "metadata": {},
   "source": [
    "Um compressor alternativo monocilídrico de simples efeito comprime uma mistura de\n",
    "gases de comportamento ideal com razão de compressão rc = 3,1 e clearance C = 18 %. O expoente\n",
    "de expansão isentrópica (expoente adiabático) da\n",
    "mistura de gases k é de 1,274. Determine:\n"
   ]
  },
  {
   "cell_type": "markdown",
   "metadata": {},
   "source": [
    "![alt text](ALtCp-01.png \"Title\")"
   ]
  },
  {
   "cell_type": "markdown",
   "metadata": {},
   "source": [
    "A razão de compressão máxima, $r_{c,max}$:"
   ]
  },
  {
   "cell_type": "code",
   "execution_count": 4,
   "metadata": {},
   "outputs": [],
   "source": [
    "rc = 3.1\n",
    "C = 18\n",
    "k = 1.274"
   ]
  },
  {
   "cell_type": "markdown",
   "metadata": {},
   "source": [
    "$$ r_{c, max} = \\left(\\frac{C+1}{C}\\right)^k $$"
   ]
  },
  {
   "cell_type": "code",
   "execution_count": 8,
   "metadata": {},
   "outputs": [
    {
     "name": "stdout",
     "output_type": "stream",
     "text": [
      "rc_max = 10.97\n"
     ]
    }
   ],
   "source": [
    "rc_max = round( (((C/100)+1)/(C/100))**k, 2 )\n",
    "print(f'rc_max = {rc_max}')"
   ]
  },
  {
   "cell_type": "markdown",
   "metadata": {},
   "source": [
    "A razão de compressão enunciada é menor que a máxima?\n",
    "A eficiência volumétrica teórica (ideal), $\\eta_{v}$:"
   ]
  },
  {
   "cell_type": "markdown",
   "metadata": {},
   "source": [
    "$$ \\eta_{v} = 1 - C(r_{c}^{\\frac{1}{k} - 1}) $$"
   ]
  },
  {
   "cell_type": "code",
   "execution_count": 9,
   "metadata": {},
   "outputs": [
    {
     "name": "stdout",
     "output_type": "stream",
     "text": [
      "ηv = 74.0%\n"
     ]
    }
   ],
   "source": [
    "ηv = round(1 - (C/100)*(rc**(1/k)-1), 2)*100\n",
    "print(f'ηv = {ηv}')"
   ]
  },
  {
   "cell_type": "markdown",
   "metadata": {},
   "source": [
    "OBS:\n",
    "\n",
    "adimitindo massa em 74% do curso do pistão -> aspirando novo gás\n",
    "os primeiros 26% baixa até o valor de admissão; pressão alta da descarga até admissão"
   ]
  },
  {
   "cell_type": "markdown",
   "metadata": {},
   "source": [
    "A massa admitida, ma, em cada ciclo mecânico (de uma rotação), se $M_{m}$ = 36 kg/kmol para a mistura de\n",
    "gases, $V_{d}$ = 2000 cm3\n",
    ", $T_{a}$ = 25 ◦C e $P_{a}$ = 100 kPa:"
   ]
  },
  {
   "cell_type": "code",
   "execution_count": 13,
   "metadata": {},
   "outputs": [],
   "source": [
    "Mm = 36 #kg/kmol\n",
    "Vd = 2000*10**(-6) #m³\n",
    "Ta = 25 + 273.15 #K\n",
    "Pa = 100 #kPa"
   ]
  },
  {
   "cell_type": "markdown",
   "metadata": {},
   "source": [
    "$$ v_{a} = \\frac{V_{a}}{m_{a}}   \\rightarrow    v_{a} = \\eta_{v} \\frac{V_{d}}{m_{a}}   \\rightarrow   m_{a} = \\eta_{v} \\frac{V_{d}}{v_{a}} $$"
   ]
  },
  {
   "cell_type": "markdown",
   "metadata": {},
   "source": [
    "$$ Pv = R_{m}T \\rightarrow v_{a} = \\frac{R_{m} T_{a}}{P_{a}} $$"
   ]
  },
  {
   "cell_type": "code",
   "execution_count": 28,
   "metadata": {},
   "outputs": [
    {
     "name": "stdout",
     "output_type": "stream",
     "text": [
      "Massa adimitida = 2.0 g\n"
     ]
    }
   ],
   "source": [
    "R = 8.31447\n",
    "Rm = 8.31447/Mm #kJ/(kg*K)\n",
    "\n",
    "va = (Rm*Ta)/Pa\n",
    "\n",
    "ma = round((ηv/100)*(Vd/va), 3)*10**3\n",
    "\n",
    "print(f'Massa adimitida = {ma} g')"
   ]
  },
  {
   "cell_type": "markdown",
   "metadata": {},
   "source": [
    "O trabalho específico de compressão ideal, $W_{k}$, por ciclo:\n"
   ]
  },
  {
   "cell_type": "markdown",
   "metadata": {},
   "source": [
    "$$ W_{k} = -m_{a} \\frac{k}{k-1}R_{m}T_{a} \\left(r_{c}^{\\frac{k-1}{k}} - 1 \\right) $$"
   ]
  },
  {
   "cell_type": "code",
   "execution_count": 35,
   "metadata": {},
   "outputs": [
    {
     "name": "stdout",
     "output_type": "stream",
     "text": [
      "Wk = -0.176 kJ\n"
     ]
    }
   ],
   "source": [
    "Wk = round(-(ma/10**3)*(k/(k-1))*Rm*Ta*( (rc**((k-1)/k)) - 1 ), 3)\n",
    "print(f'Wk = {Wk} kJ')"
   ]
  },
  {
   "cell_type": "markdown",
   "metadata": {},
   "source": [
    "A potência do ciclo ideal, $\\dot{W}_{k}$, caso o compressor opere a N = 450 RPM, em unidades de kW e HP (1 HP = 0,7457 kW):"
   ]
  },
  {
   "cell_type": "code",
   "execution_count": 53,
   "metadata": {},
   "outputs": [
    {
     "name": "stdout",
     "output_type": "stream",
     "text": [
      "ma = 15.0 g/s\n",
      "Ẇk = -2.64 HP\n"
     ]
    }
   ],
   "source": [
    "N = 450*0.01666666 #/s\n",
    "ma_p = round(N*ma, 3)\n",
    "Ẇk = round(ma_p*Wk, 3)\n",
    "\n",
    "print(f'ma = {ma_p} g/s')\n",
    "print(f'Ẇk = {Ẇk} HP')"
   ]
  }
 ],
 "metadata": {
  "kernelspec": {
   "display_name": "Python 3.8.12 ('downgrade')",
   "language": "python",
   "name": "python3"
  },
  "language_info": {
   "codemirror_mode": {
    "name": "ipython",
    "version": 3
   },
   "file_extension": ".py",
   "mimetype": "text/x-python",
   "name": "python",
   "nbconvert_exporter": "python",
   "pygments_lexer": "ipython3",
   "version": "3.8.12"
  },
  "orig_nbformat": 4,
  "vscode": {
   "interpreter": {
    "hash": "ed3ebb04734f43b15442b522d77b67c46cdc9775d54bcf2473760b986ff7b5a6"
   }
  }
 },
 "nbformat": 4,
 "nbformat_minor": 2
}
